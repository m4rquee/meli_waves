{
 "cells": [
  {
   "cell_type": "code",
   "id": "fbc121e30a2defb3",
   "metadata": {
    "ExecuteTime": {
     "end_time": "2025-01-29T13:16:18.385099Z",
     "start_time": "2025-01-29T13:16:18.323961Z"
    }
   },
   "source": [
    "import numpy as np\n",
    "import gurobipy as gp\n",
    "from gurobipy import GRB"
   ],
   "outputs": [],
   "execution_count": 1
  },
  {
   "metadata": {
    "ExecuteTime": {
     "end_time": "2025-01-29T13:16:20.596547Z",
     "start_time": "2025-01-29T13:16:20.590324Z"
    }
   },
   "cell_type": "code",
   "source": [
    "class Instance:\n",
    "    O: int  # number of requests\n",
    "    I: int  # number of items\n",
    "    A: int  # number of corridors\n",
    "\n",
    "    u_oi: np.ndarray  # quantity of each item for each request\n",
    "    u_ai = np.ndarray  # quantity of each item in each corridor\n",
    "\n",
    "    LB: int  # lower bound on the wave size\n",
    "    UB: int  # upper bound on the wave size\n",
    "\n",
    "    def __init__(self, input_file):\n",
    "        with open(input_file, 'r') as file:\n",
    "            self.O, self.I, self.A = map(int, file.readline().split())\n",
    "\n",
    "            # Read orders matrix:\n",
    "            self.u_oi = np.zeros((self.O, self.I), dtype=int)\n",
    "            for i in range(self.O):\n",
    "                data = np.fromstring(file.readline(), dtype=int, sep=' ')\n",
    "                indices, qtys = data[1::2], data[2::2]\n",
    "                self.u_oi[i, indices] = qtys\n",
    "\n",
    "            # Read corridors matrix:\n",
    "            self.u_ai = np.zeros((self.A, self.I), dtype=int)\n",
    "            for i in range(self.A):\n",
    "                data = np.fromstring(file.readline(), dtype=int, sep=' ')\n",
    "                indices, qtys = data[1::2], data[2::2]\n",
    "                self.u_ai[i, indices] = qtys\n",
    "\n",
    "            # Read lower and upper bounds for wave size:\n",
    "            self.LB, self.UB = map(int, file.readline().split())"
   ],
   "id": "950e9cd6e5e91c79",
   "outputs": [],
   "execution_count": 2
  },
  {
   "cell_type": "markdown",
   "id": "3a641e84-05fd-4472-819b-4888f16d07e7",
   "metadata": {},
   "source": [
    "# Constants and variables:"
   ]
  },
  {
   "cell_type": "code",
   "id": "bf0f5184-a040-48f4-bec8-1bd9d0ea3ae9",
   "metadata": {
    "ExecuteTime": {
     "end_time": "2025-01-29T13:23:21.869230Z",
     "start_time": "2025-01-29T13:16:26.913980Z"
    }
   },
   "source": [
    "input_file = \"datasets/a/instance_0020.txt\"\n",
    "inst = Instance(input_file)\n",
    "\n",
    "# Create a new model\n",
    "m = gp.Model(\"meli\")\n",
    "\n",
    "# Create variables\n",
    "O_ = m.addMVar(inst.O, vtype=GRB.BINARY, name='o')  # wave selected requests\n",
    "A_ = m.addMVar(inst.A, vtype=GRB.BINARY, name='a')  # wave visited corridors\n",
    "obj = m.addVar(vtype=GRB.CONTINUOUS, lb=0, ub=inst.u_oi.sum(), name='Obj')  # the objective cost function\n",
    "\n",
    "m.update()"
   ],
   "outputs": [
    {
     "name": "stdout",
     "output_type": "stream",
     "text": [
      "Set parameter Username\n",
      "Set parameter LicenseID to value 2615956\n",
      "Academic license - for non-commercial use only - expires 2026-01-28\n"
     ]
    }
   ],
   "execution_count": 3
  },
  {
   "cell_type": "markdown",
   "id": "bd576bff-5c89-44c6-a584-e2c0ec433309",
   "metadata": {},
   "source": [
    "# Restrictions:"
   ]
  },
  {
   "cell_type": "code",
   "id": "3c5cd76f-c7a3-4907-89c1-97f46b5ac9ac",
   "metadata": {
    "ExecuteTime": {
     "end_time": "2025-01-29T13:29:18.854165Z",
     "start_time": "2025-01-29T13:29:18.838864Z"
    }
   },
   "source": [
    "wave_size = (inst.u_oi.T @ O_).sum()  # total number of items in the wave\n",
    "\n",
    "# Operational limits on the total number of items for the orders included in the wave:\n",
    "m.addConstr(wave_size >= inst.LB)\n",
    "m.addConstr(wave_size <= inst.UB)\n",
    "\n",
    "# The selected corridors have sufficient storage for each of the items within the wave:\n",
    "m.addConstrs(O_ @ inst.u_oi[:, i] <= A_ @ inst.u_ai[:, i] for i in range(inst.I))\n",
    "\n",
    "m.addConstr(obj <= wave_size)  # basic cut\n",
    "m.update()"
   ],
   "outputs": [],
   "execution_count": 16
  },
  {
   "cell_type": "markdown",
   "id": "b9130f50-f5c4-4dd0-b515-37cf50c170c2",
   "metadata": {},
   "source": [
    "# Objective function:"
   ]
  },
  {
   "cell_type": "code",
   "id": "ed7105e1-b126-427d-8320-46557232c742",
   "metadata": {
    "ExecuteTime": {
     "end_time": "2025-01-29T13:29:21.562900Z",
     "start_time": "2025-01-29T13:29:21.557459Z"
    }
   },
   "source": [
    "wave_corridors = A_.sum()  # number of used corridors\n",
    "m.addConstr(obj == wave_size / wave_corridors)\n",
    "m.setObjective(obj, GRB.MAXIMIZE)"
   ],
   "outputs": [],
   "execution_count": 17
  },
  {
   "cell_type": "markdown",
   "id": "13aec025-82e6-40c8-93df-d0c3c37175c0",
   "metadata": {},
   "source": [
    "# Model solving:"
   ]
  },
  {
   "cell_type": "code",
   "id": "76853629-8c65-47ef-9509-aadde05371d3",
   "metadata": {
    "ExecuteTime": {
     "end_time": "2025-01-29T13:29:23.866717Z",
     "start_time": "2025-01-29T13:29:23.828368Z"
    }
   },
   "source": [
    "try:\n",
    "    m.optimize()\n",
    "\n",
    "    # Print the found solution:\n",
    "    for v in m.getVars():\n",
    "        print(f\"{v.VarName} {v.X:g}\")\n",
    "    print(f\"\\nWave size: {wave_size.getValue():g}\")\n",
    "    print(f\"Number of corridors: {wave_corridors.getValue():g}\")\n",
    "except gp.GurobiError as e:\n",
    "    print(f\"Error code {e.errno}: {e}\")\n",
    "except AttributeError:\n",
    "    print(\"Encountered an attribute error\")"
   ],
   "outputs": [
    {
     "name": "stdout",
     "output_type": "stream",
     "text": [
      "Gurobi Optimizer version 12.0.1 build v12.0.1rc0 (linux64 - \"Freedesktop SDK 23.08 (Flatpak runtime)\")\n",
      "\n",
      "CPU model: AMD Ryzen 7 8845HS w/ Radeon 780M Graphics, instruction set [SSE2|AVX|AVX2|AVX512]\n",
      "Thread count: 8 physical cores, 16 logical processors, using up to 16 threads\n",
      "\n",
      "Optimize a model with 8 rows, 11 columns and 46 nonzeros\n",
      "Model fingerprint: 0x605e8145\n",
      "Model has 1 general nonlinear constraint (1 nonlinear terms)\n",
      "Variable types: 1 continuous, 10 integer (10 binary)\n",
      "Coefficient statistics:\n",
      "  Matrix range     [1e+00, 5e+00]\n",
      "  Objective range  [1e+00, 1e+00]\n",
      "  Bounds range     [1e+00, 2e+01]\n",
      "  RHS range        [5e+00, 1e+01]\n",
      "Presolve model has 1 nlconstr\n",
      "Added 2 variables to disaggregate expressions.\n",
      "Presolve time: 0.00s\n",
      "Presolved: 14 rows, 14 columns, 66 nonzeros\n",
      "Presolved model has 1 bilinear constraint(s)\n",
      "\n",
      "Solving non-convex MIQCP\n",
      "\n",
      "Variable types: 2 continuous, 12 integer (10 binary)\n",
      "\n",
      "Root relaxation: objective 9.608696e+00, 18 iterations, 0.00 seconds (0.00 work units)\n",
      "\n",
      "    Nodes    |    Current Node    |     Objective Bounds      |     Work\n",
      " Expl Unexpl |  Obj  Depth IntInf | Incumbent    BestBd   Gap | It/Node Time\n",
      "\n",
      "     0     0    9.60870    0    9          -    9.60870      -     -    0s\n",
      "H    0     0                       5.0000000    9.60870  92.2%     -    0s\n",
      "     0     0    5.80000    0    9    5.00000    5.80000  16.0%     -    0s\n",
      "     0     0    5.50000    0   10    5.00000    5.50000  10.0%     -    0s\n",
      "     0     0    5.50000    0   11    5.00000    5.50000  10.0%     -    0s\n",
      "\n",
      "Cutting planes:\n",
      "  Cover: 1\n",
      "  MIR: 4\n",
      "  Zero half: 1\n",
      "\n",
      "Explored 1 nodes (26 simplex iterations) in 0.02 seconds (0.00 work units)\n",
      "Thread count was 16 (of 16 available processors)\n",
      "\n",
      "Solution count 1: 5 \n",
      "\n",
      "Optimal solution found (tolerance 1.00e-04)\n",
      "Best objective 5.000000000000e+00, best bound 5.000000000000e+00, gap 0.0000%\n",
      "o[0] 1\n",
      "o[1] 1\n",
      "o[2] 1\n",
      "o[3] -0\n",
      "o[4] 1\n",
      "a[0] -0\n",
      "a[1] 1\n",
      "a[2] -0\n",
      "a[3] 1\n",
      "a[4] -0\n",
      "Obj 5\n",
      "\n",
      "Wave size: 10\n",
      "Number of corridors: 2\n"
     ]
    }
   ],
   "execution_count": 18
  }
 ],
 "metadata": {
  "kernelspec": {
   "display_name": "Python 3 (ipykernel)",
   "language": "python",
   "name": "python3"
  },
  "language_info": {
   "codemirror_mode": {
    "name": "ipython",
    "version": 3
   },
   "file_extension": ".py",
   "mimetype": "text/x-python",
   "name": "python",
   "nbconvert_exporter": "python",
   "pygments_lexer": "ipython3",
   "version": "3.11.11"
  }
 },
 "nbformat": 4,
 "nbformat_minor": 5
}
